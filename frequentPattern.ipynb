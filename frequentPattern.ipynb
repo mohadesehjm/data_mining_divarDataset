{
 "cells": [
  {
   "cell_type": "code",
   "execution_count": 1,
   "id": "9c18472f",
   "metadata": {},
   "outputs": [
    {
     "name": "stdout",
     "output_type": "stream",
     "text": [
      "Collecting efficient-apriori\n",
      "  Downloading https://files.pythonhosted.org/packages/20/5b/a93622c9cc91fc4fb5c29bfeb8689ec4bf1e2b3d0f3579f34975051e6716/efficient_apriori-2.0.1-py3-none-any.whl\n",
      "Installing collected packages: efficient-apriori\n",
      "Successfully installed efficient-apriori-2.0.1\n",
      "Note: you may need to restart the kernel to use updated packages.\n"
     ]
    }
   ],
   "source": [
    "pip install efficient-apriori"
   ]
  },
  {
   "cell_type": "code",
   "execution_count": 5,
   "id": "cb654d33",
   "metadata": {},
   "outputs": [
    {
     "name": "stdout",
     "output_type": "stream",
     "text": [
      "Collecting pyfpgrowth\n",
      "  Using cached https://files.pythonhosted.org/packages/d2/4c/8b7cd90b4118ff0286d6584909b99e1ca5642bdc9072fa5a8dd361c864a0/pyfpgrowth-1.0.tar.gz\n",
      "Building wheels for collected packages: pyfpgrowth\n",
      "  Building wheel for pyfpgrowth (setup.py) ... \u001b[?25ldone\n",
      "\u001b[?25h  Stored in directory: /Users/mohadeseh/Library/Caches/pip/wheels/3b/3f/0d/a04bb8b17887c1eca7d0f1a48d4aa0c09c96eb221ff7fa56c1\n",
      "Successfully built pyfpgrowth\n",
      "Installing collected packages: pyfpgrowth\n",
      "Successfully installed pyfpgrowth-1.0\n",
      "Note: you may need to restart the kernel to use updated packages.\n"
     ]
    }
   ],
   "source": [
    "pip install pyfpgrowth"
   ]
  },
  {
   "cell_type": "code",
   "execution_count": 6,
   "id": "810ddb5c",
   "metadata": {},
   "outputs": [],
   "source": [
    "import pyfpgrowth\n",
    "import pandas as pd\n",
    "import matplotlib.pyplot as plt\n",
    "import networkx as nx\n",
    "from efficient_apriori import apriori\n"
   ]
  },
  {
   "cell_type": "code",
   "execution_count": 9,
   "id": "59d4325c",
   "metadata": {},
   "outputs": [
    {
     "data": {
      "text/html": [
       "<div>\n",
       "<style scoped>\n",
       "    .dataframe tbody tr th:only-of-type {\n",
       "        vertical-align: middle;\n",
       "    }\n",
       "\n",
       "    .dataframe tbody tr th {\n",
       "        vertical-align: top;\n",
       "    }\n",
       "\n",
       "    .dataframe thead th {\n",
       "        text-align: right;\n",
       "    }\n",
       "</style>\n",
       "<table border=\"1\" class=\"dataframe\">\n",
       "  <thead>\n",
       "    <tr style=\"text-align: right;\">\n",
       "      <th></th>\n",
       "      <th>ID_Order</th>\n",
       "      <th>ID_Customer</th>\n",
       "      <th>ID_Item</th>\n",
       "      <th>DateTime_CartFinalize</th>\n",
       "      <th>Amount_Gross_Order</th>\n",
       "      <th>city_name_fa</th>\n",
       "      <th>Quantity_item</th>\n",
       "    </tr>\n",
       "  </thead>\n",
       "  <tbody>\n",
       "    <tr>\n",
       "      <th>0</th>\n",
       "      <td>2714054</td>\n",
       "      <td>469662</td>\n",
       "      <td>21386</td>\n",
       "      <td>2015-10-15 08:50:56.000</td>\n",
       "      <td>597982.0</td>\n",
       "      <td>محمود آباد</td>\n",
       "      <td>1.0</td>\n",
       "    </tr>\n",
       "    <tr>\n",
       "      <th>1</th>\n",
       "      <td>11104039</td>\n",
       "      <td>3063877</td>\n",
       "      <td>248497</td>\n",
       "      <td>2018-02-11 00:29:26.000</td>\n",
       "      <td>980000.0</td>\n",
       "      <td>خرمدره</td>\n",
       "      <td>1.0</td>\n",
       "    </tr>\n",
       "    <tr>\n",
       "      <th>2</th>\n",
       "      <td>4228130</td>\n",
       "      <td>3184893</td>\n",
       "      <td>50144</td>\n",
       "      <td>2016-06-14 00:30:08.000</td>\n",
       "      <td>229358.0</td>\n",
       "      <td>قرچک</td>\n",
       "      <td>1.0</td>\n",
       "    </tr>\n",
       "    <tr>\n",
       "      <th>3</th>\n",
       "      <td>22225624</td>\n",
       "      <td>6888562</td>\n",
       "      <td>70208</td>\n",
       "      <td>2018-09-03 14:37:19.000</td>\n",
       "      <td>16514.0</td>\n",
       "      <td>قم</td>\n",
       "      <td>1.0</td>\n",
       "    </tr>\n",
       "    <tr>\n",
       "      <th>4</th>\n",
       "      <td>4068771</td>\n",
       "      <td>2533490</td>\n",
       "      <td>67627</td>\n",
       "      <td>2016-05-21 11:51:02.000</td>\n",
       "      <td>133028.0</td>\n",
       "      <td>تهران</td>\n",
       "      <td>1.0</td>\n",
       "    </tr>\n",
       "    <tr>\n",
       "      <th>...</th>\n",
       "      <td>...</td>\n",
       "      <td>...</td>\n",
       "      <td>...</td>\n",
       "      <td>...</td>\n",
       "      <td>...</td>\n",
       "      <td>...</td>\n",
       "      <td>...</td>\n",
       "    </tr>\n",
       "    <tr>\n",
       "      <th>199995</th>\n",
       "      <td>12172771</td>\n",
       "      <td>4403268</td>\n",
       "      <td>445940</td>\n",
       "      <td>2018-04-03 12:07:01.000</td>\n",
       "      <td>344037.0</td>\n",
       "      <td>تهران</td>\n",
       "      <td>2.0</td>\n",
       "    </tr>\n",
       "    <tr>\n",
       "      <th>199996</th>\n",
       "      <td>4425393</td>\n",
       "      <td>3745774</td>\n",
       "      <td>131645</td>\n",
       "      <td>2016-07-09 19:14:09.000</td>\n",
       "      <td>600000.0</td>\n",
       "      <td>محمدیه</td>\n",
       "      <td>1.0</td>\n",
       "    </tr>\n",
       "    <tr>\n",
       "      <th>199997</th>\n",
       "      <td>6671889</td>\n",
       "      <td>4845514</td>\n",
       "      <td>215045</td>\n",
       "      <td>2017-03-08 23:47:06.000</td>\n",
       "      <td>450000.0</td>\n",
       "      <td>اصفهان</td>\n",
       "      <td>1.0</td>\n",
       "    </tr>\n",
       "    <tr>\n",
       "      <th>199998</th>\n",
       "      <td>6315995</td>\n",
       "      <td>2541418</td>\n",
       "      <td>264021</td>\n",
       "      <td>2017-02-08 14:59:39.000</td>\n",
       "      <td>193486.0</td>\n",
       "      <td>همدان</td>\n",
       "      <td>1.0</td>\n",
       "    </tr>\n",
       "    <tr>\n",
       "      <th>199999</th>\n",
       "      <td>7584127</td>\n",
       "      <td>1342585</td>\n",
       "      <td>89427</td>\n",
       "      <td>2017-06-17 10:08:06.000</td>\n",
       "      <td>55046.0</td>\n",
       "      <td>بندر انزلی</td>\n",
       "      <td>1.0</td>\n",
       "    </tr>\n",
       "  </tbody>\n",
       "</table>\n",
       "<p>200000 rows × 7 columns</p>\n",
       "</div>"
      ],
      "text/plain": [
       "        ID_Order  ID_Customer  ID_Item    DateTime_CartFinalize  \\\n",
       "0        2714054       469662    21386  2015-10-15 08:50:56.000   \n",
       "1       11104039      3063877   248497  2018-02-11 00:29:26.000   \n",
       "2        4228130      3184893    50144  2016-06-14 00:30:08.000   \n",
       "3       22225624      6888562    70208  2018-09-03 14:37:19.000   \n",
       "4        4068771      2533490    67627  2016-05-21 11:51:02.000   \n",
       "...          ...          ...      ...                      ...   \n",
       "199995  12172771      4403268   445940  2018-04-03 12:07:01.000   \n",
       "199996   4425393      3745774   131645  2016-07-09 19:14:09.000   \n",
       "199997   6671889      4845514   215045  2017-03-08 23:47:06.000   \n",
       "199998   6315995      2541418   264021  2017-02-08 14:59:39.000   \n",
       "199999   7584127      1342585    89427  2017-06-17 10:08:06.000   \n",
       "\n",
       "        Amount_Gross_Order city_name_fa  Quantity_item  \n",
       "0                 597982.0   محمود آباد            1.0  \n",
       "1                 980000.0       خرمدره            1.0  \n",
       "2                 229358.0         قرچک            1.0  \n",
       "3                  16514.0           قم            1.0  \n",
       "4                 133028.0        تهران            1.0  \n",
       "...                    ...          ...            ...  \n",
       "199995            344037.0        تهران            2.0  \n",
       "199996            600000.0       محمدیه            1.0  \n",
       "199997            450000.0       اصفهان            1.0  \n",
       "199998            193486.0        همدان            1.0  \n",
       "199999             55046.0   بندر انزلی            1.0  \n",
       "\n",
       "[200000 rows x 7 columns]"
      ]
     },
     "execution_count": 9,
     "metadata": {},
     "output_type": "execute_result"
    }
   ],
   "source": [
    "orders = pd.read_csv(\"/Users/mohadeseh/Documents/me/AllTaskOfLessons/session8/data_mining/FDM_Project_dataset-99-2/digikala_dataset/orders.csv\")\n",
    "orders"
   ]
  },
  {
   "cell_type": "code",
   "execution_count": 16,
   "id": "abcc49da",
   "metadata": {},
   "outputs": [
    {
     "data": {
      "text/html": [
       "<div>\n",
       "<style scoped>\n",
       "    .dataframe tbody tr th:only-of-type {\n",
       "        vertical-align: middle;\n",
       "    }\n",
       "\n",
       "    .dataframe tbody tr th {\n",
       "        vertical-align: top;\n",
       "    }\n",
       "\n",
       "    .dataframe thead th {\n",
       "        text-align: right;\n",
       "    }\n",
       "</style>\n",
       "<table border=\"1\" class=\"dataframe\">\n",
       "  <thead>\n",
       "    <tr style=\"text-align: right;\">\n",
       "      <th></th>\n",
       "      <th>Unnamed: 0</th>\n",
       "      <th>archive_by_user</th>\n",
       "      <th>brand</th>\n",
       "      <th>cat1</th>\n",
       "      <th>cat2</th>\n",
       "      <th>cat3</th>\n",
       "      <th>city</th>\n",
       "      <th>created_at</th>\n",
       "      <th>desc</th>\n",
       "      <th>id</th>\n",
       "      <th>image_count</th>\n",
       "      <th>mileage</th>\n",
       "      <th>platform</th>\n",
       "      <th>price</th>\n",
       "      <th>title</th>\n",
       "      <th>type</th>\n",
       "      <th>year</th>\n",
       "    </tr>\n",
       "  </thead>\n",
       "  <tbody>\n",
       "    <tr>\n",
       "      <th>0</th>\n",
       "      <td>0</td>\n",
       "      <td>False</td>\n",
       "      <td>NaN</td>\n",
       "      <td>for-the-home</td>\n",
       "      <td>furniture-and-home-decore</td>\n",
       "      <td>sofa-armchair</td>\n",
       "      <td>Tehran</td>\n",
       "      <td>Tuesday 07PM</td>\n",
       "      <td>کلاسیک و شیک و استثنایی\\nچرم مالزی\\nچوب راش\\nف...</td>\n",
       "      <td>54761638662241</td>\n",
       "      <td>5</td>\n",
       "      <td>NaN</td>\n",
       "      <td>mobile</td>\n",
       "      <td>3850000</td>\n",
       "      <td>ست مبلمان و نهارخوری ٩ نفره</td>\n",
       "      <td>NaN</td>\n",
       "      <td>NaN</td>\n",
       "    </tr>\n",
       "    <tr>\n",
       "      <th>1</th>\n",
       "      <td>1</td>\n",
       "      <td>False</td>\n",
       "      <td>NaN</td>\n",
       "      <td>for-the-home</td>\n",
       "      <td>furniture-and-home-decore</td>\n",
       "      <td>antiques-and-art</td>\n",
       "      <td>Mashhad</td>\n",
       "      <td>Tuesday 07PM</td>\n",
       "      <td>سلام,یک عدد گلدون نخل سه طبقه ی سالم دارم با پ...</td>\n",
       "      <td>42727631379133</td>\n",
       "      <td>1</td>\n",
       "      <td>NaN</td>\n",
       "      <td>mobile</td>\n",
       "      <td>30000</td>\n",
       "      <td>گلدون مصنوعی نخل</td>\n",
       "      <td>NaN</td>\n",
       "      <td>NaN</td>\n",
       "    </tr>\n",
       "    <tr>\n",
       "      <th>2</th>\n",
       "      <td>2</td>\n",
       "      <td>False</td>\n",
       "      <td>NaN</td>\n",
       "      <td>vehicles</td>\n",
       "      <td>cars</td>\n",
       "      <td>heavy</td>\n",
       "      <td>Mashhad</td>\n",
       "      <td>Tuesday 07PM</td>\n",
       "      <td>سریال 43j$NUMبدون شکستگی سه حلقه لاستیک نو یک ...</td>\n",
       "      <td>63194439667302</td>\n",
       "      <td>4</td>\n",
       "      <td>NaN</td>\n",
       "      <td>mobile</td>\n",
       "      <td>-1</td>\n",
       "      <td>لودر کاتر پیلار 950</td>\n",
       "      <td>NaN</td>\n",
       "      <td>NaN</td>\n",
       "    </tr>\n",
       "    <tr>\n",
       "      <th>3</th>\n",
       "      <td>3</td>\n",
       "      <td>False</td>\n",
       "      <td>NaN</td>\n",
       "      <td>for-the-home</td>\n",
       "      <td>furniture-and-home-decore</td>\n",
       "      <td>sofa-armchair</td>\n",
       "      <td>Tehran</td>\n",
       "      <td>Tuesday 07PM</td>\n",
       "      <td>مبل راحتی هفت نفره شامل سه نفره یک عدد دونفره ...</td>\n",
       "      <td>19133025491169</td>\n",
       "      <td>4</td>\n",
       "      <td>NaN</td>\n",
       "      <td>mobile</td>\n",
       "      <td>600000</td>\n",
       "      <td>مبل راحتی هفت نفره بامیز جلو مبلی</td>\n",
       "      <td>NaN</td>\n",
       "      <td>NaN</td>\n",
       "    </tr>\n",
       "    <tr>\n",
       "      <th>4</th>\n",
       "      <td>4</td>\n",
       "      <td>False</td>\n",
       "      <td>NaN</td>\n",
       "      <td>personal</td>\n",
       "      <td>baby-and-toys</td>\n",
       "      <td>personal-toys</td>\n",
       "      <td>Karaj</td>\n",
       "      <td>Tuesday 08PM</td>\n",
       "      <td>شارژی کنترلی سویچ حمل تا 35 کیلو صندلی برای دو...</td>\n",
       "      <td>58998998335444</td>\n",
       "      <td>2</td>\n",
       "      <td>NaN</td>\n",
       "      <td>mobile</td>\n",
       "      <td>450000</td>\n",
       "      <td>ماشین شارژی</td>\n",
       "      <td>NaN</td>\n",
       "      <td>NaN</td>\n",
       "    </tr>\n",
       "    <tr>\n",
       "      <th>...</th>\n",
       "      <td>...</td>\n",
       "      <td>...</td>\n",
       "      <td>...</td>\n",
       "      <td>...</td>\n",
       "      <td>...</td>\n",
       "      <td>...</td>\n",
       "      <td>...</td>\n",
       "      <td>...</td>\n",
       "      <td>...</td>\n",
       "      <td>...</td>\n",
       "      <td>...</td>\n",
       "      <td>...</td>\n",
       "      <td>...</td>\n",
       "      <td>...</td>\n",
       "      <td>...</td>\n",
       "      <td>...</td>\n",
       "      <td>...</td>\n",
       "    </tr>\n",
       "    <tr>\n",
       "      <th>947630</th>\n",
       "      <td>947630</td>\n",
       "      <td>True</td>\n",
       "      <td>NaN</td>\n",
       "      <td>for-the-home</td>\n",
       "      <td>building-and-garden</td>\n",
       "      <td>stove-and-heating</td>\n",
       "      <td>Shiraz</td>\n",
       "      <td>Friday 07AM</td>\n",
       "      <td>دوعدد یکی یک متری و دیگری 1.4 متری موجود است\\n...</td>\n",
       "      <td>16127180351093</td>\n",
       "      <td>1</td>\n",
       "      <td>NaN</td>\n",
       "      <td>web</td>\n",
       "      <td>180000</td>\n",
       "      <td>رادیاتور پنلی نو ترک</td>\n",
       "      <td>NaN</td>\n",
       "      <td>NaN</td>\n",
       "    </tr>\n",
       "    <tr>\n",
       "      <th>947631</th>\n",
       "      <td>947631</td>\n",
       "      <td>True</td>\n",
       "      <td>NaN</td>\n",
       "      <td>electronic-devices</td>\n",
       "      <td>audio-video</td>\n",
       "      <td>camera-camcoders</td>\n",
       "      <td>Tehran</td>\n",
       "      <td>Friday 02PM</td>\n",
       "      <td>دوربین هندی کم کنون مدل لگریا fs36\\n\\nعکاسی و ...</td>\n",
       "      <td>29805298491725</td>\n",
       "      <td>1</td>\n",
       "      <td>NaN</td>\n",
       "      <td>mobile</td>\n",
       "      <td>350000</td>\n",
       "      <td>دوربین هندی کم  کنون</td>\n",
       "      <td>NaN</td>\n",
       "      <td>NaN</td>\n",
       "    </tr>\n",
       "    <tr>\n",
       "      <th>947632</th>\n",
       "      <td>947632</td>\n",
       "      <td>True</td>\n",
       "      <td>پراید صندوق‌دار::Pride</td>\n",
       "      <td>vehicles</td>\n",
       "      <td>cars</td>\n",
       "      <td>light</td>\n",
       "      <td>Shiraz</td>\n",
       "      <td>Friday 04PM</td>\n",
       "      <td>پراید دوگانه کارخانه میباشد و کم کارکرد.روکش ....</td>\n",
       "      <td>55514317985619</td>\n",
       "      <td>3</td>\n",
       "      <td>43000.0</td>\n",
       "      <td>mobile</td>\n",
       "      <td>17400000</td>\n",
       "      <td>پراید دوگانه کارخانه مدل93</td>\n",
       "      <td>NaN</td>\n",
       "      <td>1393</td>\n",
       "    </tr>\n",
       "    <tr>\n",
       "      <th>947633</th>\n",
       "      <td>947633</td>\n",
       "      <td>True</td>\n",
       "      <td>NaN</td>\n",
       "      <td>electronic-devices</td>\n",
       "      <td>mobile-tablet</td>\n",
       "      <td>mobile-tablet-accessories</td>\n",
       "      <td>Mashhad</td>\n",
       "      <td>Friday 05PM</td>\n",
       "      <td>مونو پد یانگ تد همراه با پایه و اینه عقبش\\nواس...</td>\n",
       "      <td>65938921533442</td>\n",
       "      <td>1</td>\n",
       "      <td>NaN</td>\n",
       "      <td>mobile</td>\n",
       "      <td>40000</td>\n",
       "      <td>مونوپد یانگ تد خیلی تمیز و نو</td>\n",
       "      <td>NaN</td>\n",
       "      <td>NaN</td>\n",
       "    </tr>\n",
       "    <tr>\n",
       "      <th>947634</th>\n",
       "      <td>947634</td>\n",
       "      <td>True</td>\n",
       "      <td>NaN</td>\n",
       "      <td>personal</td>\n",
       "      <td>jewelry-and-watches</td>\n",
       "      <td>watches</td>\n",
       "      <td>Shiraz</td>\n",
       "      <td>Friday 05PM</td>\n",
       "      <td>جواب فقط تماس و. وات ساپ</td>\n",
       "      <td>18312774360687</td>\n",
       "      <td>1</td>\n",
       "      <td>NaN</td>\n",
       "      <td>mobile</td>\n",
       "      <td>25000</td>\n",
       "      <td>ساعت مارک</td>\n",
       "      <td>NaN</td>\n",
       "      <td>NaN</td>\n",
       "    </tr>\n",
       "  </tbody>\n",
       "</table>\n",
       "<p>947635 rows × 17 columns</p>\n",
       "</div>"
      ],
      "text/plain": [
       "        Unnamed: 0  archive_by_user                   brand  \\\n",
       "0                0            False                     NaN   \n",
       "1                1            False                     NaN   \n",
       "2                2            False                     NaN   \n",
       "3                3            False                     NaN   \n",
       "4                4            False                     NaN   \n",
       "...            ...              ...                     ...   \n",
       "947630      947630             True                     NaN   \n",
       "947631      947631             True                     NaN   \n",
       "947632      947632             True  پراید صندوق‌دار::Pride   \n",
       "947633      947633             True                     NaN   \n",
       "947634      947634             True                     NaN   \n",
       "\n",
       "                      cat1                       cat2  \\\n",
       "0             for-the-home  furniture-and-home-decore   \n",
       "1             for-the-home  furniture-and-home-decore   \n",
       "2                 vehicles                       cars   \n",
       "3             for-the-home  furniture-and-home-decore   \n",
       "4                 personal              baby-and-toys   \n",
       "...                    ...                        ...   \n",
       "947630        for-the-home        building-and-garden   \n",
       "947631  electronic-devices                audio-video   \n",
       "947632            vehicles                       cars   \n",
       "947633  electronic-devices              mobile-tablet   \n",
       "947634            personal        jewelry-and-watches   \n",
       "\n",
       "                             cat3     city    created_at  \\\n",
       "0                   sofa-armchair   Tehran  Tuesday 07PM   \n",
       "1                antiques-and-art  Mashhad  Tuesday 07PM   \n",
       "2                           heavy  Mashhad  Tuesday 07PM   \n",
       "3                   sofa-armchair   Tehran  Tuesday 07PM   \n",
       "4                   personal-toys    Karaj  Tuesday 08PM   \n",
       "...                           ...      ...           ...   \n",
       "947630          stove-and-heating   Shiraz   Friday 07AM   \n",
       "947631           camera-camcoders   Tehran   Friday 02PM   \n",
       "947632                      light   Shiraz   Friday 04PM   \n",
       "947633  mobile-tablet-accessories  Mashhad   Friday 05PM   \n",
       "947634                    watches   Shiraz   Friday 05PM   \n",
       "\n",
       "                                                     desc              id  \\\n",
       "0       کلاسیک و شیک و استثنایی\\nچرم مالزی\\nچوب راش\\nف...  54761638662241   \n",
       "1       سلام,یک عدد گلدون نخل سه طبقه ی سالم دارم با پ...  42727631379133   \n",
       "2       سریال 43j$NUMبدون شکستگی سه حلقه لاستیک نو یک ...  63194439667302   \n",
       "3       مبل راحتی هفت نفره شامل سه نفره یک عدد دونفره ...  19133025491169   \n",
       "4       شارژی کنترلی سویچ حمل تا 35 کیلو صندلی برای دو...  58998998335444   \n",
       "...                                                   ...             ...   \n",
       "947630  دوعدد یکی یک متری و دیگری 1.4 متری موجود است\\n...  16127180351093   \n",
       "947631  دوربین هندی کم کنون مدل لگریا fs36\\n\\nعکاسی و ...  29805298491725   \n",
       "947632  پراید دوگانه کارخانه میباشد و کم کارکرد.روکش ....  55514317985619   \n",
       "947633  مونو پد یانگ تد همراه با پایه و اینه عقبش\\nواس...  65938921533442   \n",
       "947634                           جواب فقط تماس و. وات ساپ  18312774360687   \n",
       "\n",
       "        image_count  mileage platform     price  \\\n",
       "0                 5      NaN   mobile   3850000   \n",
       "1                 1      NaN   mobile     30000   \n",
       "2                 4      NaN   mobile        -1   \n",
       "3                 4      NaN   mobile    600000   \n",
       "4                 2      NaN   mobile    450000   \n",
       "...             ...      ...      ...       ...   \n",
       "947630            1      NaN      web    180000   \n",
       "947631            1      NaN   mobile    350000   \n",
       "947632            3  43000.0   mobile  17400000   \n",
       "947633            1      NaN   mobile     40000   \n",
       "947634            1      NaN   mobile     25000   \n",
       "\n",
       "                                    title type  year  \n",
       "0             ست مبلمان و نهارخوری ٩ نفره  NaN   NaN  \n",
       "1                        گلدون مصنوعی نخل  NaN   NaN  \n",
       "2                     لودر کاتر پیلار 950  NaN   NaN  \n",
       "3       مبل راحتی هفت نفره بامیز جلو مبلی  NaN   NaN  \n",
       "4                             ماشین شارژی  NaN   NaN  \n",
       "...                                   ...  ...   ...  \n",
       "947630               رادیاتور پنلی نو ترک  NaN   NaN  \n",
       "947631               دوربین هندی کم  کنون  NaN   NaN  \n",
       "947632         پراید دوگانه کارخانه مدل93  NaN  1393  \n",
       "947633      مونوپد یانگ تد خیلی تمیز و نو  NaN   NaN  \n",
       "947634                          ساعت مارک  NaN   NaN  \n",
       "\n",
       "[947635 rows x 17 columns]"
      ]
     },
     "execution_count": 16,
     "metadata": {},
     "output_type": "execute_result"
    }
   ],
   "source": [
    "df = pd.read_csv (\"/Users/mohadeseh/Documents/me/AllTaskOfLessons/session8/data_mining/FDM_Project_dataset-99-2/divar_dataset/divar_posts_dataset.csv\") \n",
    "df"
   ]
  },
  {
   "cell_type": "code",
   "execution_count": 17,
   "id": "f92bd12d",
   "metadata": {},
   "outputs": [
    {
     "data": {
      "text/html": [
       "<div>\n",
       "<style scoped>\n",
       "    .dataframe tbody tr th:only-of-type {\n",
       "        vertical-align: middle;\n",
       "    }\n",
       "\n",
       "    .dataframe tbody tr th {\n",
       "        vertical-align: top;\n",
       "    }\n",
       "\n",
       "    .dataframe thead th {\n",
       "        text-align: right;\n",
       "    }\n",
       "</style>\n",
       "<table border=\"1\" class=\"dataframe\">\n",
       "  <thead>\n",
       "    <tr style=\"text-align: right;\">\n",
       "      <th></th>\n",
       "      <th>Unnamed: 0</th>\n",
       "      <th>archive_by_user</th>\n",
       "      <th>brand</th>\n",
       "      <th>cat1</th>\n",
       "      <th>cat2</th>\n",
       "      <th>cat3</th>\n",
       "      <th>city</th>\n",
       "      <th>created_at</th>\n",
       "      <th>desc</th>\n",
       "      <th>id</th>\n",
       "      <th>image_count</th>\n",
       "      <th>mileage</th>\n",
       "      <th>platform</th>\n",
       "      <th>price</th>\n",
       "      <th>title</th>\n",
       "      <th>type</th>\n",
       "      <th>year</th>\n",
       "    </tr>\n",
       "  </thead>\n",
       "  <tbody>\n",
       "    <tr>\n",
       "      <th>947630</th>\n",
       "      <td>947630</td>\n",
       "      <td>True</td>\n",
       "      <td>NaN</td>\n",
       "      <td>for-the-home</td>\n",
       "      <td>building-and-garden</td>\n",
       "      <td>stove-and-heating</td>\n",
       "      <td>Shiraz</td>\n",
       "      <td>Friday 07AM</td>\n",
       "      <td>دوعدد یکی یک متری و دیگری 1.4 متری موجود است\\n...</td>\n",
       "      <td>16127180351093</td>\n",
       "      <td>1</td>\n",
       "      <td>NaN</td>\n",
       "      <td>web</td>\n",
       "      <td>180000</td>\n",
       "      <td>رادیاتور پنلی نو ترک</td>\n",
       "      <td>NaN</td>\n",
       "      <td>NaN</td>\n",
       "    </tr>\n",
       "    <tr>\n",
       "      <th>947631</th>\n",
       "      <td>947631</td>\n",
       "      <td>True</td>\n",
       "      <td>NaN</td>\n",
       "      <td>electronic-devices</td>\n",
       "      <td>audio-video</td>\n",
       "      <td>camera-camcoders</td>\n",
       "      <td>Tehran</td>\n",
       "      <td>Friday 02PM</td>\n",
       "      <td>دوربین هندی کم کنون مدل لگریا fs36\\n\\nعکاسی و ...</td>\n",
       "      <td>29805298491725</td>\n",
       "      <td>1</td>\n",
       "      <td>NaN</td>\n",
       "      <td>mobile</td>\n",
       "      <td>350000</td>\n",
       "      <td>دوربین هندی کم  کنون</td>\n",
       "      <td>NaN</td>\n",
       "      <td>NaN</td>\n",
       "    </tr>\n",
       "    <tr>\n",
       "      <th>947632</th>\n",
       "      <td>947632</td>\n",
       "      <td>True</td>\n",
       "      <td>پراید صندوق‌دار::Pride</td>\n",
       "      <td>vehicles</td>\n",
       "      <td>cars</td>\n",
       "      <td>light</td>\n",
       "      <td>Shiraz</td>\n",
       "      <td>Friday 04PM</td>\n",
       "      <td>پراید دوگانه کارخانه میباشد و کم کارکرد.روکش ....</td>\n",
       "      <td>55514317985619</td>\n",
       "      <td>3</td>\n",
       "      <td>43000.0</td>\n",
       "      <td>mobile</td>\n",
       "      <td>17400000</td>\n",
       "      <td>پراید دوگانه کارخانه مدل93</td>\n",
       "      <td>NaN</td>\n",
       "      <td>1393</td>\n",
       "    </tr>\n",
       "    <tr>\n",
       "      <th>947633</th>\n",
       "      <td>947633</td>\n",
       "      <td>True</td>\n",
       "      <td>NaN</td>\n",
       "      <td>electronic-devices</td>\n",
       "      <td>mobile-tablet</td>\n",
       "      <td>mobile-tablet-accessories</td>\n",
       "      <td>Mashhad</td>\n",
       "      <td>Friday 05PM</td>\n",
       "      <td>مونو پد یانگ تد همراه با پایه و اینه عقبش\\nواس...</td>\n",
       "      <td>65938921533442</td>\n",
       "      <td>1</td>\n",
       "      <td>NaN</td>\n",
       "      <td>mobile</td>\n",
       "      <td>40000</td>\n",
       "      <td>مونوپد یانگ تد خیلی تمیز و نو</td>\n",
       "      <td>NaN</td>\n",
       "      <td>NaN</td>\n",
       "    </tr>\n",
       "    <tr>\n",
       "      <th>947634</th>\n",
       "      <td>947634</td>\n",
       "      <td>True</td>\n",
       "      <td>NaN</td>\n",
       "      <td>personal</td>\n",
       "      <td>jewelry-and-watches</td>\n",
       "      <td>watches</td>\n",
       "      <td>Shiraz</td>\n",
       "      <td>Friday 05PM</td>\n",
       "      <td>جواب فقط تماس و. وات ساپ</td>\n",
       "      <td>18312774360687</td>\n",
       "      <td>1</td>\n",
       "      <td>NaN</td>\n",
       "      <td>mobile</td>\n",
       "      <td>25000</td>\n",
       "      <td>ساعت مارک</td>\n",
       "      <td>NaN</td>\n",
       "      <td>NaN</td>\n",
       "    </tr>\n",
       "  </tbody>\n",
       "</table>\n",
       "</div>"
      ],
      "text/plain": [
       "        Unnamed: 0  archive_by_user                   brand  \\\n",
       "947630      947630             True                     NaN   \n",
       "947631      947631             True                     NaN   \n",
       "947632      947632             True  پراید صندوق‌دار::Pride   \n",
       "947633      947633             True                     NaN   \n",
       "947634      947634             True                     NaN   \n",
       "\n",
       "                      cat1                 cat2                       cat3  \\\n",
       "947630        for-the-home  building-and-garden          stove-and-heating   \n",
       "947631  electronic-devices          audio-video           camera-camcoders   \n",
       "947632            vehicles                 cars                      light   \n",
       "947633  electronic-devices        mobile-tablet  mobile-tablet-accessories   \n",
       "947634            personal  jewelry-and-watches                    watches   \n",
       "\n",
       "           city   created_at  \\\n",
       "947630   Shiraz  Friday 07AM   \n",
       "947631   Tehran  Friday 02PM   \n",
       "947632   Shiraz  Friday 04PM   \n",
       "947633  Mashhad  Friday 05PM   \n",
       "947634   Shiraz  Friday 05PM   \n",
       "\n",
       "                                                     desc              id  \\\n",
       "947630  دوعدد یکی یک متری و دیگری 1.4 متری موجود است\\n...  16127180351093   \n",
       "947631  دوربین هندی کم کنون مدل لگریا fs36\\n\\nعکاسی و ...  29805298491725   \n",
       "947632  پراید دوگانه کارخانه میباشد و کم کارکرد.روکش ....  55514317985619   \n",
       "947633  مونو پد یانگ تد همراه با پایه و اینه عقبش\\nواس...  65938921533442   \n",
       "947634                           جواب فقط تماس و. وات ساپ  18312774360687   \n",
       "\n",
       "        image_count  mileage platform     price  \\\n",
       "947630            1      NaN      web    180000   \n",
       "947631            1      NaN   mobile    350000   \n",
       "947632            3  43000.0   mobile  17400000   \n",
       "947633            1      NaN   mobile     40000   \n",
       "947634            1      NaN   mobile     25000   \n",
       "\n",
       "                                title type  year  \n",
       "947630           رادیاتور پنلی نو ترک  NaN   NaN  \n",
       "947631           دوربین هندی کم  کنون  NaN   NaN  \n",
       "947632     پراید دوگانه کارخانه مدل93  NaN  1393  \n",
       "947633  مونوپد یانگ تد خیلی تمیز و نو  NaN   NaN  \n",
       "947634                      ساعت مارک  NaN   NaN  "
      ]
     },
     "execution_count": 17,
     "metadata": {},
     "output_type": "execute_result"
    }
   ],
   "source": [
    "df.tail()"
   ]
  },
  {
   "cell_type": "code",
   "execution_count": 18,
   "id": "418c06fa",
   "metadata": {},
   "outputs": [
    {
     "data": {
      "text/html": [
       "<div>\n",
       "<style scoped>\n",
       "    .dataframe tbody tr th:only-of-type {\n",
       "        vertical-align: middle;\n",
       "    }\n",
       "\n",
       "    .dataframe tbody tr th {\n",
       "        vertical-align: top;\n",
       "    }\n",
       "\n",
       "    .dataframe thead th {\n",
       "        text-align: right;\n",
       "    }\n",
       "</style>\n",
       "<table border=\"1\" class=\"dataframe\">\n",
       "  <thead>\n",
       "    <tr style=\"text-align: right;\">\n",
       "      <th></th>\n",
       "      <th>Unnamed: 0</th>\n",
       "      <th>archive_by_user</th>\n",
       "      <th>brand</th>\n",
       "      <th>cat1</th>\n",
       "      <th>cat2</th>\n",
       "      <th>cat3</th>\n",
       "      <th>city</th>\n",
       "      <th>desc</th>\n",
       "      <th>id</th>\n",
       "      <th>image_count</th>\n",
       "      <th>mileage</th>\n",
       "      <th>platform</th>\n",
       "      <th>price</th>\n",
       "      <th>title</th>\n",
       "      <th>type</th>\n",
       "      <th>year</th>\n",
       "      <th>day</th>\n",
       "      <th>houre</th>\n",
       "    </tr>\n",
       "  </thead>\n",
       "  <tbody>\n",
       "    <tr>\n",
       "      <th>947630</th>\n",
       "      <td>947630</td>\n",
       "      <td>True</td>\n",
       "      <td>NaN</td>\n",
       "      <td>for-the-home</td>\n",
       "      <td>building-and-garden</td>\n",
       "      <td>stove-and-heating</td>\n",
       "      <td>Shiraz</td>\n",
       "      <td>دوعدد یکی یک متری و دیگری 1.4 متری موجود است\\n...</td>\n",
       "      <td>16127180351093</td>\n",
       "      <td>1</td>\n",
       "      <td>NaN</td>\n",
       "      <td>web</td>\n",
       "      <td>180000</td>\n",
       "      <td>رادیاتور پنلی نو ترک</td>\n",
       "      <td>NaN</td>\n",
       "      <td>NaN</td>\n",
       "      <td>Friday</td>\n",
       "      <td>07AM</td>\n",
       "    </tr>\n",
       "    <tr>\n",
       "      <th>947631</th>\n",
       "      <td>947631</td>\n",
       "      <td>True</td>\n",
       "      <td>NaN</td>\n",
       "      <td>electronic-devices</td>\n",
       "      <td>audio-video</td>\n",
       "      <td>camera-camcoders</td>\n",
       "      <td>Tehran</td>\n",
       "      <td>دوربین هندی کم کنون مدل لگریا fs36\\n\\nعکاسی و ...</td>\n",
       "      <td>29805298491725</td>\n",
       "      <td>1</td>\n",
       "      <td>NaN</td>\n",
       "      <td>mobile</td>\n",
       "      <td>350000</td>\n",
       "      <td>دوربین هندی کم  کنون</td>\n",
       "      <td>NaN</td>\n",
       "      <td>NaN</td>\n",
       "      <td>Friday</td>\n",
       "      <td>02PM</td>\n",
       "    </tr>\n",
       "    <tr>\n",
       "      <th>947632</th>\n",
       "      <td>947632</td>\n",
       "      <td>True</td>\n",
       "      <td>پراید صندوق‌دار::Pride</td>\n",
       "      <td>vehicles</td>\n",
       "      <td>cars</td>\n",
       "      <td>light</td>\n",
       "      <td>Shiraz</td>\n",
       "      <td>پراید دوگانه کارخانه میباشد و کم کارکرد.روکش ....</td>\n",
       "      <td>55514317985619</td>\n",
       "      <td>3</td>\n",
       "      <td>43000.0</td>\n",
       "      <td>mobile</td>\n",
       "      <td>17400000</td>\n",
       "      <td>پراید دوگانه کارخانه مدل93</td>\n",
       "      <td>NaN</td>\n",
       "      <td>1393</td>\n",
       "      <td>Friday</td>\n",
       "      <td>04PM</td>\n",
       "    </tr>\n",
       "    <tr>\n",
       "      <th>947633</th>\n",
       "      <td>947633</td>\n",
       "      <td>True</td>\n",
       "      <td>NaN</td>\n",
       "      <td>electronic-devices</td>\n",
       "      <td>mobile-tablet</td>\n",
       "      <td>mobile-tablet-accessories</td>\n",
       "      <td>Mashhad</td>\n",
       "      <td>مونو پد یانگ تد همراه با پایه و اینه عقبش\\nواس...</td>\n",
       "      <td>65938921533442</td>\n",
       "      <td>1</td>\n",
       "      <td>NaN</td>\n",
       "      <td>mobile</td>\n",
       "      <td>40000</td>\n",
       "      <td>مونوپد یانگ تد خیلی تمیز و نو</td>\n",
       "      <td>NaN</td>\n",
       "      <td>NaN</td>\n",
       "      <td>Friday</td>\n",
       "      <td>05PM</td>\n",
       "    </tr>\n",
       "    <tr>\n",
       "      <th>947634</th>\n",
       "      <td>947634</td>\n",
       "      <td>True</td>\n",
       "      <td>NaN</td>\n",
       "      <td>personal</td>\n",
       "      <td>jewelry-and-watches</td>\n",
       "      <td>watches</td>\n",
       "      <td>Shiraz</td>\n",
       "      <td>جواب فقط تماس و. وات ساپ</td>\n",
       "      <td>18312774360687</td>\n",
       "      <td>1</td>\n",
       "      <td>NaN</td>\n",
       "      <td>mobile</td>\n",
       "      <td>25000</td>\n",
       "      <td>ساعت مارک</td>\n",
       "      <td>NaN</td>\n",
       "      <td>NaN</td>\n",
       "      <td>Friday</td>\n",
       "      <td>05PM</td>\n",
       "    </tr>\n",
       "  </tbody>\n",
       "</table>\n",
       "</div>"
      ],
      "text/plain": [
       "        Unnamed: 0  archive_by_user                   brand  \\\n",
       "947630      947630             True                     NaN   \n",
       "947631      947631             True                     NaN   \n",
       "947632      947632             True  پراید صندوق‌دار::Pride   \n",
       "947633      947633             True                     NaN   \n",
       "947634      947634             True                     NaN   \n",
       "\n",
       "                      cat1                 cat2                       cat3  \\\n",
       "947630        for-the-home  building-and-garden          stove-and-heating   \n",
       "947631  electronic-devices          audio-video           camera-camcoders   \n",
       "947632            vehicles                 cars                      light   \n",
       "947633  electronic-devices        mobile-tablet  mobile-tablet-accessories   \n",
       "947634            personal  jewelry-and-watches                    watches   \n",
       "\n",
       "           city                                               desc  \\\n",
       "947630   Shiraz  دوعدد یکی یک متری و دیگری 1.4 متری موجود است\\n...   \n",
       "947631   Tehran  دوربین هندی کم کنون مدل لگریا fs36\\n\\nعکاسی و ...   \n",
       "947632   Shiraz  پراید دوگانه کارخانه میباشد و کم کارکرد.روکش ....   \n",
       "947633  Mashhad  مونو پد یانگ تد همراه با پایه و اینه عقبش\\nواس...   \n",
       "947634   Shiraz                           جواب فقط تماس و. وات ساپ   \n",
       "\n",
       "                    id  image_count  mileage platform     price  \\\n",
       "947630  16127180351093            1      NaN      web    180000   \n",
       "947631  29805298491725            1      NaN   mobile    350000   \n",
       "947632  55514317985619            3  43000.0   mobile  17400000   \n",
       "947633  65938921533442            1      NaN   mobile     40000   \n",
       "947634  18312774360687            1      NaN   mobile     25000   \n",
       "\n",
       "                                title type  year     day houre  \n",
       "947630           رادیاتور پنلی نو ترک  NaN   NaN  Friday  07AM  \n",
       "947631           دوربین هندی کم  کنون  NaN   NaN  Friday  02PM  \n",
       "947632     پراید دوگانه کارخانه مدل93  NaN  1393  Friday  04PM  \n",
       "947633  مونوپد یانگ تد خیلی تمیز و نو  NaN   NaN  Friday  05PM  \n",
       "947634                      ساعت مارک  NaN   NaN  Friday  05PM  "
      ]
     },
     "execution_count": 18,
     "metadata": {},
     "output_type": "execute_result"
    }
   ],
   "source": [
    "df[['day','houre']] = df.created_at.str.split(\" \",expand=True,)\n",
    "del df[\"created_at\"]\n",
    "df.tail()"
   ]
  },
  {
   "cell_type": "markdown",
   "id": "42b031db",
   "metadata": {},
   "source": [
    "# •\tاستخراج الگوهای قرار دادن پست فروش  محصولات در شهرهای مختلف در دیتاست دیوار "
   ]
  },
  {
   "cell_type": "code",
   "execution_count": 27,
   "id": "60f6bc69",
   "metadata": {},
   "outputs": [
    {
     "name": "stdout",
     "output_type": "stream",
     "text": [
      "number of cities: 9\n",
      "['electronic-devices', 'businesses', 'electronic-devices', 'for-the-home', 'personal', 'vehicles', 'vehicles', 'for-the-home', 'personal', 'vehicles', 'for-the-home', 'electronic-devices', 'businesses', 'for-the-home', 'for-the-home', 'for-the-home', 'vehicles', 'businesses', 'for-the-home', 'for-the-home']\n"
     ]
    }
   ],
   "source": [
    "groupby_cities = df.groupby(by = ['city'])\n",
    "transactions_of_cities = []\n",
    "cities =[]\n",
    "for group, pdf in groupby_cities:\n",
    "    transactions_of_cities.append(pdf['cat1'].values.tolist())\n",
    "    cities.append(pdf['city'].tolist()[0])\n",
    "    \n",
    "print(\"number of cities:\", len(transactions_of_cities))\n",
    "\n",
    "print(transactions_of_cities[1][:20])"
   ]
  },
  {
   "cell_type": "code",
   "execution_count": 28,
   "id": "f96fcb51",
   "metadata": {},
   "outputs": [
    {
     "name": "stdout",
     "output_type": "stream",
     "text": [
      "23130\n",
      "Kermanshah\n",
      "\n",
      "32002\n",
      "Qom\n",
      "\n",
      "34014\n",
      "Tabriz\n",
      "\n",
      "47163\n",
      "Ahvaz\n",
      "\n",
      "61803\n",
      "Isfahan\n",
      "\n",
      "83736\n",
      "Karaj\n",
      "\n",
      "83970\n",
      "Shiraz\n",
      "\n",
      "138879\n",
      "Mashhad\n",
      "\n",
      "442938\n",
      "Tehran\n",
      "\n"
     ]
    }
   ],
   "source": [
    "ct = []\n",
    "for ele in transactions_of_cities:\n",
    "    ct.append(len(ele))\n",
    "\n",
    "ctt = ct.copy()\n",
    "ctt.sort()\n",
    "top_ten_cities = []\n",
    "for i in range(9):\n",
    "    top_ten_cities.append(cities[ct.index(ctt[i])])\n",
    "    print(ctt[i])\n",
    "    print(top_ten_cities[-1])\n",
    "    print()"
   ]
  },
  {
   "cell_type": "code",
   "execution_count": 29,
   "id": "88fd1fdc",
   "metadata": {},
   "outputs": [
    {
     "name": "stdout",
     "output_type": "stream",
     "text": [
      "total transactions      :  9\n",
      "cleaning for finding FP :  9\n"
     ]
    }
   ],
   "source": [
    "transactionsCities = []\n",
    "for tr in transactions_of_cities:\n",
    "    if len(tr) > 2:\n",
    "        transactionsCities.append(tr)\n",
    "    else:\n",
    "        print(\"here\")\n",
    "print(\"total transactions      : \", len(transactions_of_cities))\n",
    "print(\"cleaning for finding FP : \", len(transactionsCities))"
   ]
  },
  {
   "cell_type": "code",
   "execution_count": 30,
   "id": "d3f68928",
   "metadata": {},
   "outputs": [
    {
     "data": {
      "text/plain": [
       "0"
      ]
     },
     "execution_count": 30,
     "metadata": {},
     "output_type": "execute_result"
    }
   ],
   "source": [
    "df['cat1'].isnull().sum()"
   ]
  },
  {
   "cell_type": "code",
   "execution_count": 45,
   "id": "ae5403c6",
   "metadata": {},
   "outputs": [
    {
     "name": "stdout",
     "output_type": "stream",
     "text": [
      "{('vehicles',): 9, ('for-the-home',): 9, ('personal',): 9, ('leisure-hobbies',): 9, ('electronic-devices',): 9, ('businesses',): 9} \n",
      "\n",
      "{('businesses', 'electronic-devices'): 9, ('businesses', 'for-the-home'): 9, ('businesses', 'leisure-hobbies'): 9, ('businesses', 'personal'): 9, ('businesses', 'vehicles'): 9, ('electronic-devices', 'for-the-home'): 9, ('electronic-devices', 'leisure-hobbies'): 9, ('electronic-devices', 'personal'): 9, ('electronic-devices', 'vehicles'): 9, ('for-the-home', 'leisure-hobbies'): 9, ('for-the-home', 'personal'): 9, ('for-the-home', 'vehicles'): 9, ('leisure-hobbies', 'personal'): 9, ('leisure-hobbies', 'vehicles'): 9, ('personal', 'vehicles'): 9} \n",
      "\n"
     ]
    }
   ],
   "source": [
    "itemsets, rules = apriori(transactionsCities,min_support=0.9, min_confidence=0.9)\n",
    "\n",
    "for key in range(1,3):\n",
    "    print(itemsets[key] , \"\\n\")\n",
    "\n",
    "    \n"
   ]
  },
  {
   "cell_type": "code",
   "execution_count": 51,
   "id": "e9b4782d",
   "metadata": {},
   "outputs": [
    {
     "data": {
      "text/plain": [
       "602"
      ]
     },
     "execution_count": 51,
     "metadata": {},
     "output_type": "execute_result"
    }
   ],
   "source": [
    "len(rules)"
   ]
  },
  {
   "cell_type": "code",
   "execution_count": 52,
   "id": "9d5beb77",
   "metadata": {},
   "outputs": [
    {
     "data": {
      "text/plain": [
       "[{electronic-devices} -> {businesses},\n",
       " {businesses} -> {electronic-devices},\n",
       " {for-the-home} -> {businesses},\n",
       " {businesses} -> {for-the-home},\n",
       " {leisure-hobbies} -> {businesses},\n",
       " {businesses} -> {leisure-hobbies},\n",
       " {personal} -> {businesses},\n",
       " {businesses} -> {personal},\n",
       " {vehicles} -> {businesses},\n",
       " {businesses} -> {vehicles},\n",
       " {for-the-home} -> {electronic-devices},\n",
       " {electronic-devices} -> {for-the-home},\n",
       " {leisure-hobbies} -> {electronic-devices},\n",
       " {electronic-devices} -> {leisure-hobbies},\n",
       " {personal} -> {electronic-devices},\n",
       " {electronic-devices} -> {personal},\n",
       " {vehicles} -> {electronic-devices},\n",
       " {electronic-devices} -> {vehicles},\n",
       " {leisure-hobbies} -> {for-the-home},\n",
       " {for-the-home} -> {leisure-hobbies}]"
      ]
     },
     "execution_count": 52,
     "metadata": {},
     "output_type": "execute_result"
    }
   ],
   "source": [
    "rules[:20]"
   ]
  },
  {
   "cell_type": "markdown",
   "id": "60d467e2",
   "metadata": {},
   "source": [
    "# 2.\tاستخراج الگوهای فروش محصولات مختلف در دیتاست دیجیکالا"
   ]
  },
  {
   "cell_type": "code",
   "execution_count": 53,
   "id": "4830dba6",
   "metadata": {},
   "outputs": [],
   "source": [
    "groupby_customer = orders.groupby(by = ['ID_Customer'])\n",
    "\n",
    "transactions_of_customers = []\n",
    "for group, pdf in groupby_customer:\n",
    "    transactions_of_customers.append(pdf['ID_Item'].values.tolist())"
   ]
  },
  {
   "cell_type": "code",
   "execution_count": 54,
   "id": "b2195883",
   "metadata": {},
   "outputs": [
    {
     "name": "stdout",
     "output_type": "stream",
     "text": [
      "number of transactions: 151634\n"
     ]
    },
    {
     "data": {
      "text/plain": [
       "[[42545,\n",
       "  361304,\n",
       "  1523292,\n",
       "  1671385,\n",
       "  369749,\n",
       "  1711488,\n",
       "  5265,\n",
       "  75068,\n",
       "  80046,\n",
       "  1771143,\n",
       "  81692],\n",
       " [43418],\n",
       " [137418, 242763, 295740],\n",
       " [46854],\n",
       " [76901, 1390734, 87941],\n",
       " [2015151],\n",
       " [189732, 4631],\n",
       " [767994],\n",
       " [61363, 91566, 20173],\n",
       " [180116]]"
      ]
     },
     "execution_count": 54,
     "metadata": {},
     "output_type": "execute_result"
    }
   ],
   "source": [
    "print(\"number of transactions:\", len(transactions_of_customers))\n",
    "transactions_of_customers[:10]"
   ]
  },
  {
   "cell_type": "code",
   "execution_count": 55,
   "id": "eb8d0a8f",
   "metadata": {},
   "outputs": [
    {
     "name": "stdout",
     "output_type": "stream",
     "text": [
      "total transactions      :  151634\n",
      "cleaning for finding FP :  28700\n"
     ]
    }
   ],
   "source": [
    "transactions = []\n",
    "for tr in transactions_of_customers:\n",
    "    if len(tr) > 1:\n",
    "        transactions.append(tr)\n",
    "        \n",
    "print(\"total transactions      : \", len(transactions_of_customers))\n",
    "print(\"cleaning for finding FP : \", len(transactions))"
   ]
  },
  {
   "cell_type": "markdown",
   "id": "ba417f16",
   "metadata": {},
   "source": [
    "\n",
    "## Frequent patterns with support_threshold 3"
   ]
  },
  {
   "cell_type": "code",
   "execution_count": 56,
   "id": "6b52ed6d",
   "metadata": {},
   "outputs": [
    {
     "data": {
      "text/plain": [
       "{(369749,): 3,\n",
       " (189732,): 3,\n",
       " (114994,): 3,\n",
       " (175451,): 3,\n",
       " (22105,): 3,\n",
       " (66491,): 3,\n",
       " (43533,): 3,\n",
       " (134937,): 3,\n",
       " (1150874,): 3,\n",
       " (161233,): 3,\n",
       " (388826,): 3,\n",
       " (295644,): 3,\n",
       " (169960,): 3,\n",
       " (10373,): 3,\n",
       " (199429,): 3,\n",
       " (44445,): 3,\n",
       " (478445,): 3,\n",
       " (51734,): 3,\n",
       " (299504,): 3,\n",
       " (424039,): 3}"
      ]
     },
     "execution_count": 56,
     "metadata": {},
     "output_type": "execute_result"
    }
   ],
   "source": [
    "patterns = pyfpgrowth.find_frequent_patterns(transactions, 3)\n",
    "{k: patterns[k] for k in list(patterns)[:20]}"
   ]
  },
  {
   "cell_type": "code",
   "execution_count": 57,
   "id": "e371dbfe",
   "metadata": {},
   "outputs": [
    {
     "data": {
      "text/plain": [
       "5244"
      ]
     },
     "execution_count": 57,
     "metadata": {},
     "output_type": "execute_result"
    }
   ],
   "source": [
    "len(patterns)"
   ]
  },
  {
   "cell_type": "markdown",
   "id": "dc65c299",
   "metadata": {},
   "source": [
    "### Generate association rules with min confidence threshold 0.25"
   ]
  },
  {
   "cell_type": "code",
   "execution_count": 58,
   "id": "433e209a",
   "metadata": {},
   "outputs": [
    {
     "data": {
      "text/plain": [
       "{(875835,): ((294942,), 0.75),\n",
       " (31619,): ((294942,), 1.0),\n",
       " (388778,): ((104031,), 1.0),\n",
       " (90776,): ((12011,), 0.5),\n",
       " (12011, 12011): ((90776,), 1.0),\n",
       " (12011, 90776): ((), 1.0),\n",
       " (100245,): ((294942,), 0.375),\n",
       " (223359,): ((294942,), 0.3333333333333333),\n",
       " (434176,): ((), 0.5)}"
      ]
     },
     "execution_count": 58,
     "metadata": {},
     "output_type": "execute_result"
    }
   ],
   "source": [
    "rules = pyfpgrowth.generate_association_rules(patterns, 0.25)\n",
    "rules"
   ]
  },
  {
   "cell_type": "code",
   "execution_count": 59,
   "id": "f1e54b22",
   "metadata": {},
   "outputs": [
    {
     "data": {
      "text/plain": [
       "{(164602,): 100,\n",
       " (254946,): 100,\n",
       " (43106,): 102,\n",
       " (479349,): 102,\n",
       " (137583,): 106,\n",
       " (44653,): 107,\n",
       " (295740,): 108,\n",
       " (54850,): 108,\n",
       " (128133,): 111,\n",
       " (163090,): 114,\n",
       " (82966,): 115,\n",
       " (94233,): 119,\n",
       " (143130,): 119,\n",
       " (20215,): 122,\n",
       " (245223,): 124,\n",
       " (77707,): 127,\n",
       " (12532,): 128,\n",
       " (129574,): 129,\n",
       " (118375,): 131,\n",
       " (294923,): 131,\n",
       " (42124,): 141,\n",
       " (7225,): 146,\n",
       " (153067,): 149,\n",
       " (294943,): 155,\n",
       " (22839,): 160,\n",
       " (19890,): 168,\n",
       " (416448,): 175,\n",
       " (8289,): 233,\n",
       " (45121,): 259,\n",
       " (51778,): 288,\n",
       " (36871,): 367,\n",
       " (294942,): 481}"
      ]
     },
     "execution_count": 59,
     "metadata": {},
     "output_type": "execute_result"
    }
   ],
   "source": [
    "best_seller_items = pyfpgrowth.find_frequent_patterns(transactions_of_customers, 100)\n",
    "best_seller_items"
   ]
  },
  {
   "cell_type": "markdown",
   "id": "c6f3aecb",
   "metadata": {},
   "source": [
    "# 3.\tاستخراج الگوهای مکرر میان روز انتشار پست و پلتفرم استفاده شده "
   ]
  },
  {
   "cell_type": "code",
   "execution_count": 60,
   "id": "cb994dcb",
   "metadata": {},
   "outputs": [
    {
     "name": "stdout",
     "output_type": "stream",
     "text": [
      "(('Wednesday', 'mobile'), ('Wednesday', 'mobile'), ('Wednesday', 'mobile'), ('Wednesday', 'mobile'), ('Wednesday', 'mobile'), ('Wednesday', 'mobile'), ('Thursday', 'mobile'), ('Thursday', 'mobile'), ('Friday', 'mobile'), ('Friday', 'mobile'), ('Friday', 'mobile'), ('Saturday', 'mobile'), ('Saturday', 'mobile'), ('Saturday', 'mobile'), ('Saturday', 'mobile'), ('Sunday', 'mobile'), ('Sunday', 'mobile'), ('Sunday', 'mobile'), ('Sunday', 'web'), ('Monday', 'mobile'))\n"
     ]
    }
   ],
   "source": [
    "groupby_day_platform = df.groupby(by = ['cat1'])\n",
    "transactions_of_day_platform = []\n",
    "for group, pdf in groupby_day_platform:\n",
    "    transactions_of_day_platform.append(tuple(map(tuple,pdf[['day','platform']].values)))\n",
    "print(transactions_of_day_platform[1][:20])"
   ]
  },
  {
   "cell_type": "code",
   "execution_count": 61,
   "id": "1a8bd4ec",
   "metadata": {},
   "outputs": [
    {
     "name": "stdout",
     "output_type": "stream",
     "text": [
      "total transactions      :  6\n",
      "cleaning for finding FP :  6\n"
     ]
    }
   ],
   "source": [
    "transactionsDayPlatfrom = []\n",
    "for tr in transactions_of_day_platform:\n",
    "    if len(tr) > 1:\n",
    "        transactionsDayPlatfrom.append(tr)\n",
    "        \n",
    "print(\"total transactions      : \", len(transactions_of_day_platform))\n",
    "print(\"cleaning for finding FP : \", len(transactionsDayPlatfrom))"
   ]
  },
  {
   "cell_type": "code",
   "execution_count": 62,
   "id": "e284e1e6",
   "metadata": {},
   "outputs": [
    {
     "name": "stdout",
     "output_type": "stream",
     "text": [
      "6\n"
     ]
    }
   ],
   "source": [
    "print(len(transactions_of_day_platform))"
   ]
  },
  {
   "cell_type": "code",
   "execution_count": 66,
   "id": "bd28bbbb",
   "metadata": {},
   "outputs": [
    {
     "name": "stdout",
     "output_type": "stream",
     "text": [
      "1:  {(('Wednesday', 'mobile'),): 6, (('Thursday', 'mobile'),): 6, (('Saturday', 'mobile'),): 6, (('Saturday', 'web'),): 6, (('Sunday', 'mobile'),): 6, (('Tuesday', 'mobile'),): 6, (('Friday', 'mobile'),): 6, (('Monday', 'web'),): 6, (('Monday', 'mobile'),): 6, (('Tuesday', 'web'),): 6, (('Wednesday', 'web'),): 6, (('Friday', 'web'),): 6, (('Sunday', 'web'),): 6, (('Thursday', 'web'),): 6} \n",
      "\n"
     ]
    }
   ],
   "source": [
    "itemsets, rules = apriori(transactionsDayPlatfrom,min_support=0.9, min_confidence=0.8)\n",
    "print(\"1: \",itemsets[1], \"\\n\")"
   ]
  },
  {
   "cell_type": "markdown",
   "id": "9c2acf27",
   "metadata": {},
   "source": [
    "#\t۴. استخراج الگوهای مکرر برای محصول و پلتفرم استفاده شده"
   ]
  },
  {
   "cell_type": "code",
   "execution_count": 67,
   "id": "373854bc",
   "metadata": {},
   "outputs": [
    {
     "name": "stdout",
     "output_type": "stream",
     "text": [
      "(('electronic-devices', 'mobile'), ('businesses', 'mobile'), ('electronic-devices', 'mobile'), ('for-the-home', 'mobile'), ('personal', 'mobile'), ('vehicles', 'mobile'), ('vehicles', 'mobile'), ('for-the-home', 'web'), ('personal', 'mobile'), ('vehicles', 'mobile'), ('for-the-home', 'mobile'), ('electronic-devices', 'mobile'), ('businesses', 'mobile'), ('for-the-home', 'mobile'), ('for-the-home', 'mobile'), ('for-the-home', 'mobile'), ('vehicles', 'mobile'), ('businesses', 'mobile'), ('for-the-home', 'mobile'), ('for-the-home', 'web'))\n"
     ]
    }
   ],
   "source": [
    "groupby_product_platform = df.groupby(by = ['city'])\n",
    "transactions_of_product_platform = []\n",
    "for group, pdf in groupby_product_platform:\n",
    "    transactions_of_product_platform.append(tuple(map(tuple,pdf[['cat1','platform']].values)))\n",
    "print(transactions_of_product_platform[1][:20])"
   ]
  },
  {
   "cell_type": "code",
   "execution_count": 68,
   "id": "303b7d8d",
   "metadata": {},
   "outputs": [
    {
     "name": "stdout",
     "output_type": "stream",
     "text": [
      "9\n"
     ]
    }
   ],
   "source": [
    "print(len(transactions_of_product_platform))"
   ]
  },
  {
   "cell_type": "code",
   "execution_count": 69,
   "id": "618ee5a7",
   "metadata": {},
   "outputs": [
    {
     "name": "stdout",
     "output_type": "stream",
     "text": [
      "total transactions      :  9\n",
      "cleaning for finding FP :  9\n"
     ]
    }
   ],
   "source": [
    "transactionsProductPlatfrom = []\n",
    "for tr in transactions_of_product_platform:\n",
    "    if len(tr) > 1:\n",
    "        transactionsProductPlatfrom.append(tr)\n",
    "        \n",
    "print(\"total transactions      : \", len(transactions_of_product_platform))\n",
    "print(\"cleaning for finding FP : \", len(transactionsProductPlatfrom))"
   ]
  },
  {
   "cell_type": "code",
   "execution_count": 70,
   "id": "78559b4d",
   "metadata": {},
   "outputs": [
    {
     "name": "stdout",
     "output_type": "stream",
     "text": [
      "1:  {(('vehicles', 'mobile'),): 9, (('for-the-home', 'mobile'),): 9, (('vehicles', 'web'),): 9, (('personal', 'mobile'),): 9, (('leisure-hobbies', 'mobile'),): 9, (('electronic-devices', 'mobile'),): 9, (('for-the-home', 'web'),): 9, (('businesses', 'mobile'),): 9, (('electronic-devices', 'web'),): 9, (('personal', 'web'),): 9, (('leisure-hobbies', 'web'),): 9, (('businesses', 'web'),): 9}\n"
     ]
    }
   ],
   "source": [
    "itemsets, rules = apriori(transactionsProductPlatfrom,min_support=0.8, min_confidence=0.8)\n",
    "print(\"1: \" ,itemsets[1])"
   ]
  },
  {
   "cell_type": "code",
   "execution_count": 72,
   "id": "6cf1c881",
   "metadata": {},
   "outputs": [
    {
     "data": {
      "text/plain": [
       "[{('businesses', 'web')} -> {('businesses', 'mobile')},\n",
       " {('businesses', 'mobile')} -> {('businesses', 'web')},\n",
       " {('electronic-devices', 'mobile')} -> {('businesses', 'mobile')},\n",
       " {('businesses', 'mobile')} -> {('electronic-devices', 'mobile')},\n",
       " {('electronic-devices', 'web')} -> {('businesses', 'mobile')},\n",
       " {('businesses', 'mobile')} -> {('electronic-devices', 'web')},\n",
       " {('for-the-home', 'mobile')} -> {('businesses', 'mobile')},\n",
       " {('businesses', 'mobile')} -> {('for-the-home', 'mobile')},\n",
       " {('for-the-home', 'web')} -> {('businesses', 'mobile')},\n",
       " {('businesses', 'mobile')} -> {('for-the-home', 'web')},\n",
       " {('leisure-hobbies', 'mobile')} -> {('businesses', 'mobile')},\n",
       " {('businesses', 'mobile')} -> {('leisure-hobbies', 'mobile')},\n",
       " {('leisure-hobbies', 'web')} -> {('businesses', 'mobile')},\n",
       " {('businesses', 'mobile')} -> {('leisure-hobbies', 'web')},\n",
       " {('personal', 'mobile')} -> {('businesses', 'mobile')},\n",
       " {('businesses', 'mobile')} -> {('personal', 'mobile')},\n",
       " {('personal', 'web')} -> {('businesses', 'mobile')},\n",
       " {('businesses', 'mobile')} -> {('personal', 'web')},\n",
       " {('vehicles', 'mobile')} -> {('businesses', 'mobile')},\n",
       " {('businesses', 'mobile')} -> {('vehicles', 'mobile')}]"
      ]
     },
     "execution_count": 72,
     "metadata": {},
     "output_type": "execute_result"
    }
   ],
   "source": [
    "rules[:20]"
   ]
  },
  {
   "cell_type": "code",
   "execution_count": null,
   "id": "b8b03d0b",
   "metadata": {},
   "outputs": [],
   "source": []
  }
 ],
 "metadata": {
  "kernelspec": {
   "display_name": "Python 3",
   "language": "python",
   "name": "python3"
  },
  "language_info": {
   "codemirror_mode": {
    "name": "ipython",
    "version": 3
   },
   "file_extension": ".py",
   "mimetype": "text/x-python",
   "name": "python",
   "nbconvert_exporter": "python",
   "pygments_lexer": "ipython3",
   "version": "3.8.1"
  }
 },
 "nbformat": 4,
 "nbformat_minor": 5
}
